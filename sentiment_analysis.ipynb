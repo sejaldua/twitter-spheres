{
 "cells": [
  {
   "cell_type": "markdown",
   "metadata": {},
   "source": [
    "# Final Project"
   ]
  },
  {
   "cell_type": "code",
   "execution_count": 100,
   "metadata": {
    "ExecuteTime": {
     "end_time": "2019-12-02T14:23:20.658292Z",
     "start_time": "2019-12-02T14:23:20.643044Z"
    }
   },
   "outputs": [],
   "source": [
    "# Import statements\n",
    "import os\n",
    "import re\n",
    "import nltk\n",
    "import pandas as pd\n",
    "import numpy as np\n",
    "from afinn import Afinn\n",
    "import matplotlib.pyplot as plt\n",
    "from bokeh.models import HoverTool, ColumnDataSource, Panel\n",
    "from bokeh.models.widgets import CheckboxGroup, Tabs\n",
    "from bokeh.layouts import gridplot, column, row, WidgetBox\n",
    "from bokeh.plotting import figure, show, output_file"
   ]
  },
  {
   "cell_type": "code",
   "execution_count": 19,
   "metadata": {
    "ExecuteTime": {
     "end_time": "2019-12-02T14:23:30.919732Z",
     "start_time": "2019-12-02T14:23:30.903587Z"
    }
   },
   "outputs": [],
   "source": [
    "def create_df(c):\n",
    "    df = pd.DataFrame()\n",
    "    divider = []\n",
    "    names = []\n",
    "    for f in os.listdir(\"tweets/%s\" % c):\n",
    "        try:\n",
    "            dft = pd.read_csv(\"tweets/%s/%s\" % (c, f))\n",
    "            if len(divider) == 0:\n",
    "                divider.append(len(dft) - 1)\n",
    "            else:\n",
    "                divider.append(len(dft) + divider[-1])\n",
    "            df = pd.concat([df, dft])\n",
    "            \n",
    "            # parse output_name.csv string\n",
    "            names.append(f[7:][:-4])\n",
    "        except:\n",
    "            print(f)\n",
    "    return df, divider, names"
   ]
  },
  {
   "cell_type": "code",
   "execution_count": 20,
   "metadata": {
    "ExecuteTime": {
     "end_time": "2019-12-02T14:23:48.604693Z",
     "start_time": "2019-12-02T14:23:39.860888Z"
    }
   },
   "outputs": [],
   "source": [
    "categories = [\"fast food\", \"airlines\", \"leagues\", \"colleges\", \"streaming platforms\", \"news\", \"tech giants\", \"celebrities\"]\n",
    "\n",
    "fast_food, ff_divider, ff_names = create_df(categories[0])\n",
    "airlines, al_divider, al_names = create_df(categories[1])\n",
    "leagues, lg_divider, lg_names = create_df(categories[2])\n",
    "colleges, cl_divider, cl_names = create_df(categories[3])\n",
    "streaming, st_divider, st_names = create_df(categories[4])\n",
    "news, nw_divider, nw_names = create_df(categories[5])\n",
    "tech, tg_divider, tg_names = create_df(categories[6])\n",
    "celebs, cb_divider, cb_names = create_df(categories[7])\n"
   ]
  },
  {
   "cell_type": "code",
   "execution_count": 21,
   "metadata": {
    "ExecuteTime": {
     "end_time": "2019-12-02T16:24:39.769085Z",
     "start_time": "2019-12-02T16:24:39.290224Z"
    }
   },
   "outputs": [],
   "source": [
    "stopwords = nltk.corpus.stopwords.words(\"english\")\n",
    "\n",
    "# Clean tweets for sentiment analysis\n",
    "def get_clean_words(words):\n",
    "    def _isnum(w):\n",
    "        try:\n",
    "            int(w)\n",
    "            return True\n",
    "        except ValueError:\n",
    "            return False\n",
    "        \n",
    "    # Set words to lowercase and remove them if they are stop words\n",
    "    words = [w.lower() for w in words if w.lower() not in stopwords]\n",
    "\n",
    "    # Remove punctuation\n",
    "    words = [w.replace('(', '') for w in words]\n",
    "    words = [w.replace(')', '') for w in words]\n",
    "    words = [w.replace('?', '') for w in words]\n",
    "    words = [w.replace(',', '') for w in words]\n",
    "    words = [w.replace('.', '') for w in words]\n",
    "    words = [w.replace('\"', '') for w in words]\n",
    "    words = [w.replace('!', '') for w in words]\n",
    "    words = [w.replace(':', '') for w in words]\n",
    "\n",
    "    # Remove numbers\n",
    "    words = [w for w in words if not _isnum(w)]\n",
    "    \n",
    "    # Remove links\n",
    "    words = [w for w in words if 'http' not in w]\n",
    "        \n",
    "    # Remove hashtags\n",
    "    words = [w for w in words if not w.startswith(\"#\")]\n",
    "    \n",
    "    # Remove mentions\n",
    "    words = [w for w in words if not w.startswith(\"@\")]\n",
    "    \n",
    "    # Only keep words with more than one character\n",
    "    words = [w for w in words if len(w) > 1]\n",
    "\n",
    "    return words"
   ]
  },
  {
   "cell_type": "code",
   "execution_count": 39,
   "metadata": {
    "ExecuteTime": {
     "end_time": "2019-12-02T16:25:36.048239Z",
     "start_time": "2019-12-02T16:25:36.043678Z"
    }
   },
   "outputs": [],
   "source": [
    "def clean_tweets(tweets):\n",
    "    t_new = []\n",
    "    count = 0\n",
    "    for t in tweets:\n",
    "        try:\n",
    "            w = t.split()\n",
    "            w = get_clean_words(w)\n",
    "            tc = \" \".join(w)\n",
    "            t_new.append(tc)\n",
    "        except:\n",
    "            count += 1\n",
    "    return t_new"
   ]
  },
  {
   "cell_type": "code",
   "execution_count": 41,
   "metadata": {
    "ExecuteTime": {
     "end_time": "2019-12-02T16:30:43.384322Z",
     "start_time": "2019-12-02T16:26:30.018857Z"
    }
   },
   "outputs": [],
   "source": [
    "ff_tweets = list(fast_food['text'])\n",
    "al_tweets = list(airlines['text'])\n",
    "lg_tweets = list(leagues['text'])\n",
    "cl_tweets = list(colleges['text'])\n",
    "st_tweets = list(streaming['text'])\n",
    "nw_tweets = list(news['text'])\n",
    "tg_tweets = list(tech['text'])\n",
    "cb_tweets = list(celebs['text'])\n",
    "\n",
    "ff_clean = clean_tweets(ff_tweets)\n",
    "al_clean = clean_tweets(al_tweets)\n",
    "lg_clean = clean_tweets(lg_tweets)\n",
    "cl_clean = clean_tweets(cl_tweets)\n",
    "st_clean = clean_tweets(st_tweets)\n",
    "nw_clean = clean_tweets(nw_tweets)\n",
    "tg_clean = clean_tweets(tg_tweets)\n",
    "cb_clean = clean_tweets(cb_tweets)"
   ]
  },
  {
   "cell_type": "code",
   "execution_count": 44,
   "metadata": {
    "ExecuteTime": {
     "end_time": "2019-12-02T11:04:34.530802Z",
     "start_time": "2019-12-02T11:04:34.509710Z"
    }
   },
   "outputs": [],
   "source": [
    "afinn = Afinn()\n",
    "\n",
    "def get_affinity_scores(tweets):\n",
    "    scores = []\n",
    "    for t in tweets:\n",
    "        try:\n",
    "            if (len(t) > 0):\n",
    "                scores.append(afinn.score(t) / len(t))\n",
    "        except:\n",
    "            print(t)\n",
    "    return scores"
   ]
  },
  {
   "cell_type": "code",
   "execution_count": 45,
   "metadata": {
    "ExecuteTime": {
     "end_time": "2019-12-02T11:08:17.724201Z",
     "start_time": "2019-12-02T11:04:44.542842Z"
    }
   },
   "outputs": [],
   "source": [
    "ff_affin = get_affinity_scores(ff_clean)\n",
    "al_affin = get_affinity_scores(al_clean)\n",
    "lg_affin = get_affinity_scores(lg_clean)\n",
    "cl_affin = get_affinity_scores(cl_clean)\n",
    "st_affin = get_affinity_scores(st_clean)\n",
    "nw_affin = get_affinity_scores(nw_clean)\n",
    "tg_affin = get_affinity_scores(tg_clean)\n",
    "cb_affin = get_affinity_scores(cb_clean)"
   ]
  },
  {
   "cell_type": "code",
   "execution_count": 9,
   "metadata": {
    "ExecuteTime": {
     "end_time": "2019-12-02T11:08:25.026786Z",
     "start_time": "2019-12-02T11:08:24.649140Z"
    },
    "scrolled": true
   },
   "outputs": [
    {
     "data": {
      "image/png": "[encoded data removed]",
      "text/plain": [
       "<Figure size 432x288 with 1 Axes>"
      ]
     },
     "metadata": {
      "needs_background": "light"
     },
     "output_type": "display_data"
    }
   ],
   "source": [
    "plt.hist(ff_affin, bins = 20)\n",
    "plt.xlim([-1, 1])\n",
    "plt.title(\"Fast Food Twitter Sentiment Analysis\")\n",
    "plt.show()"
   ]
  },
  {
   "cell_type": "code",
   "execution_count": 10,
   "metadata": {
    "ExecuteTime": {
     "end_time": "2019-12-02T11:08:33.267442Z",
     "start_time": "2019-12-02T11:08:32.890116Z"
    }
   },
   "outputs": [
    {
     "ename": "NameError",
     "evalue": "name 'al_affin' is not defined",
     "output_type": "error",
     "traceback": [
      "\u001b[0;31m---------------------------------------------------------------------------\u001b[0m",
      "\u001b[0;31mNameError\u001b[0m                                 Traceback (most recent call last)",
      "\u001b[0;32m<ipython-input-10-36c99e1e00fd>\u001b[0m in \u001b[0;36m<module>\u001b[0;34m\u001b[0m\n\u001b[0;32m----> 1\u001b[0;31m \u001b[0mplt\u001b[0m\u001b[0;34m.\u001b[0m\u001b[0mhist\u001b[0m\u001b[0;34m(\u001b[0m\u001b[0mal_affin\u001b[0m\u001b[0;34m,\u001b[0m \u001b[0mbins\u001b[0m \u001b[0;34m=\u001b[0m \u001b[0;36m20\u001b[0m\u001b[0;34m)\u001b[0m\u001b[0;34m\u001b[0m\u001b[0;34m\u001b[0m\u001b[0m\n\u001b[0m\u001b[1;32m      2\u001b[0m \u001b[0mplt\u001b[0m\u001b[0;34m.\u001b[0m\u001b[0mxlim\u001b[0m\u001b[0;34m(\u001b[0m\u001b[0;34m[\u001b[0m\u001b[0;34m-\u001b[0m\u001b[0;36m1\u001b[0m\u001b[0;34m,\u001b[0m \u001b[0;36m1\u001b[0m\u001b[0;34m]\u001b[0m\u001b[0;34m)\u001b[0m\u001b[0;34m\u001b[0m\u001b[0;34m\u001b[0m\u001b[0m\n\u001b[1;32m      3\u001b[0m \u001b[0mplt\u001b[0m\u001b[0;34m.\u001b[0m\u001b[0mtitle\u001b[0m\u001b[0;34m(\u001b[0m\u001b[0;34m\"Airline Twitter Sentiment Analysis\"\u001b[0m\u001b[0;34m)\u001b[0m\u001b[0;34m\u001b[0m\u001b[0;34m\u001b[0m\u001b[0m\n\u001b[1;32m      4\u001b[0m \u001b[0mplt\u001b[0m\u001b[0;34m.\u001b[0m\u001b[0mshow\u001b[0m\u001b[0;34m(\u001b[0m\u001b[0;34m)\u001b[0m\u001b[0;34m\u001b[0m\u001b[0;34m\u001b[0m\u001b[0m\n",
      "\u001b[0;31mNameError\u001b[0m: name 'al_affin' is not defined"
     ]
    }
   ],
   "source": [
    "plt.hist(al_affin, bins = 20)\n",
    "plt.xlim([-1, 1])\n",
    "plt.title(\"Airline Twitter Sentiment Analysis\")\n",
    "plt.show()"
   ]
  },
  {
   "cell_type": "code",
   "execution_count": null,
   "metadata": {
    "ExecuteTime": {
     "end_time": "2019-12-02T11:08:43.081049Z",
     "start_time": "2019-12-02T11:08:42.895696Z"
    }
   },
   "outputs": [],
   "source": [
    "plt.hist(lg_affin, bins = 20)\n",
    "plt.xlim([-1, 1])\n",
    "plt.title(\"Sports League Twitter Sentiment Analysis\")\n",
    "plt.show()"
   ]
  },
  {
   "cell_type": "code",
   "execution_count": null,
   "metadata": {
    "ExecuteTime": {
     "end_time": "2019-12-02T11:08:51.825553Z",
     "start_time": "2019-12-02T11:08:51.557564Z"
    }
   },
   "outputs": [],
   "source": [
    "plt.hist(cl_affin, bins = 20)\n",
    "plt.xlim([-1, 1])\n",
    "plt.title(\"College Twitter Sentiment Analysis\")\n",
    "plt.show()"
   ]
  },
  {
   "cell_type": "code",
   "execution_count": null,
   "metadata": {
    "ExecuteTime": {
     "end_time": "2019-12-02T11:08:59.853676Z",
     "start_time": "2019-12-02T11:08:59.626096Z"
    }
   },
   "outputs": [],
   "source": [
    "plt.hist(st_affin, bins = 20)\n",
    "plt.xlim([-1, 1])\n",
    "plt.title(\"Streaming Site Twitter Sentiment Analysis\")\n",
    "plt.show()"
   ]
  },
  {
   "cell_type": "code",
   "execution_count": null,
   "metadata": {
    "ExecuteTime": {
     "end_time": "2019-12-02T11:09:08.091254Z",
     "start_time": "2019-12-02T11:09:07.572879Z"
    }
   },
   "outputs": [],
   "source": [
    "plt.hist(nw_affin, bins = 20)\n",
    "plt.xlim([-1, 1])\n",
    "plt.title(\"News Outlet Twitter Sentiment Analysis\")\n",
    "plt.show()"
   ]
  },
  {
   "cell_type": "code",
   "execution_count": null,
   "metadata": {
    "ExecuteTime": {
     "end_time": "2019-12-02T11:09:18.594695Z",
     "start_time": "2019-12-02T11:09:18.381584Z"
    }
   },
   "outputs": [],
   "source": [
    "plt.hist(tg_affin, bins = 20)\n",
    "plt.xlim([-1, 1])\n",
    "plt.title(\"Tech Giant Twitter Sentiment Analysis\")\n",
    "plt.show()"
   ]
  },
  {
   "cell_type": "code",
   "execution_count": null,
   "metadata": {
    "ExecuteTime": {
     "end_time": "2019-12-02T11:09:25.890122Z",
     "start_time": "2019-12-02T11:09:25.689837Z"
    }
   },
   "outputs": [],
   "source": [
    "plt.hist(cb_affin, bins = 20)\n",
    "plt.xlim([-1, 1])\n",
    "plt.title(\"Celebrity Twitter Sentiment Analysis\")\n",
    "plt.show()"
   ]
  },
  {
   "cell_type": "code",
   "execution_count": null,
   "metadata": {
    "ExecuteTime": {
     "end_time": "2019-12-02T11:09:32.056248Z",
     "start_time": "2019-12-02T11:09:32.051716Z"
    }
   },
   "outputs": [],
   "source": [
    "def affin_by_acct(tweets, divider):\n",
    "    acct = []\n",
    "    start = 0\n",
    "    for x in range(len(divider)):\n",
    "        acct.append(np.mean(get_affinity_scores(tweets[start:divider[x]])))\n",
    "        start = divider[x] + 1\n",
    "    return acct"
   ]
  },
  {
   "cell_type": "code",
   "execution_count": null,
   "metadata": {
    "ExecuteTime": {
     "end_time": "2019-12-02T11:13:30.960538Z",
     "start_time": "2019-12-02T11:09:40.704242Z"
    }
   },
   "outputs": [],
   "source": [
    "ff_acct = affin_by_acct(ff_clean, ff_divider)\n",
    "al_acct = affin_by_acct(al_clean, al_divider)\n",
    "lg_acct = affin_by_acct(lg_clean, lg_divider)\n",
    "cl_acct = affin_by_acct(cl_clean, cl_divider)\n",
    "st_acct = affin_by_acct(st_clean, st_divider)\n",
    "nw_acct = affin_by_acct(nw_clean, nw_divider)\n",
    "tg_acct = affin_by_acct(tg_clean, tg_divider)\n",
    "cb_acct = affin_by_acct(cb_clean, cb_divider)"
   ]
  },
  {
   "cell_type": "code",
   "execution_count": null,
   "metadata": {
    "ExecuteTime": {
     "end_time": "2019-12-02T11:13:39.910499Z",
     "start_time": "2019-12-02T11:13:39.734808Z"
    },
    "scrolled": false
   },
   "outputs": [],
   "source": [
    "plt.bar(ff_names, ff_acct)\n",
    "plt.title(\"Fast Food Twitter Sentiment Analysis\")\n",
    "plt.xticks(rotation=45)\n",
    "plt.show()"
   ]
  },
  {
   "cell_type": "code",
   "execution_count": null,
   "metadata": {
    "ExecuteTime": {
     "end_time": "2019-12-02T11:13:49.075481Z",
     "start_time": "2019-12-02T11:13:48.764904Z"
    }
   },
   "outputs": [],
   "source": [
    "plt.bar(al_names, al_acct)\n",
    "plt.title(\"Airline Twitter Sentiment Analysis by Account\")\n",
    "plt.xticks(rotation=45)\n",
    "plt.show()"
   ]
  },
  {
   "cell_type": "code",
   "execution_count": null,
   "metadata": {
    "ExecuteTime": {
     "end_time": "2019-12-02T11:13:58.763728Z",
     "start_time": "2019-12-02T11:13:58.007225Z"
    }
   },
   "outputs": [],
   "source": [
    "plt.bar(lg_names, lg_acct)\n",
    "plt.title(\"Sports League Twitter Sentiment Analysis by Account\")\n",
    "plt.xticks(rotation=45)\n",
    "plt.show()"
   ]
  },
  {
   "cell_type": "code",
   "execution_count": null,
   "metadata": {
    "ExecuteTime": {
     "end_time": "2019-12-02T11:14:18.835766Z",
     "start_time": "2019-12-02T11:14:17.960926Z"
    }
   },
   "outputs": [],
   "source": [
    "plt.bar(cl_names, cl_acct)\n",
    "plt.title(\"College Twitter Sentiment Analysis by Account\")\n",
    "plt.xticks(rotation=45)\n",
    "plt.show()"
   ]
  },
  {
   "cell_type": "code",
   "execution_count": null,
   "metadata": {
    "ExecuteTime": {
     "end_time": "2019-12-02T11:14:28.247724Z",
     "start_time": "2019-12-02T11:14:28.040116Z"
    }
   },
   "outputs": [],
   "source": [
    "plt.bar(st_names, st_acct)\n",
    "plt.title(\"Streaming Site Twitter Sentiment Analysis by Account\")\n",
    "plt.xticks(rotation=45)\n",
    "plt.show()"
   ]
  },
  {
   "cell_type": "code",
   "execution_count": null,
   "metadata": {
    "ExecuteTime": {
     "end_time": "2019-12-02T11:14:37.769293Z",
     "start_time": "2019-12-02T11:14:37.551558Z"
    }
   },
   "outputs": [],
   "source": [
    "plt.bar(nw_names, nw_acct)\n",
    "plt.title(\"News Outlet Twitter Sentiment Analysis by Account\")\n",
    "plt.xticks(rotation=45)\n",
    "plt.show()"
   ]
  },
  {
   "cell_type": "code",
   "execution_count": null,
   "metadata": {
    "ExecuteTime": {
     "end_time": "2019-12-02T11:14:45.205100Z",
     "start_time": "2019-12-02T11:14:45.013904Z"
    }
   },
   "outputs": [],
   "source": [
    "plt.bar(tg_names, tg_acct)\n",
    "plt.title(\"Tech Giant Twitter Sentiment Analysis by Account\")\n",
    "plt.xticks(rotation=45)\n",
    "plt.show()"
   ]
  },
  {
   "cell_type": "code",
   "execution_count": null,
   "metadata": {
    "ExecuteTime": {
     "end_time": "2019-12-02T11:14:52.127921Z",
     "start_time": "2019-12-02T11:14:51.678474Z"
    }
   },
   "outputs": [],
   "source": [
    "plt.bar(cb_names, cb_acct)\n",
    "plt.title(\"Celebrity Twitter Sentiment Analysis by Account\")\n",
    "plt.xticks(rotation=45)\n",
    "plt.show()"
   ]
  },
  {
   "cell_type": "code",
   "execution_count": 104,
   "metadata": {},
   "outputs": [],
   "source": [
    "start = -1\n",
    "end = 1\n",
    "bin_ct = 30\n",
    "\n",
    "\n",
    "ff_hist, ff_edges = np.histogram(ff_affin, bins = bin_ct, range = [start, end])\n",
    "al_hist, al_edges = np.histogram(al_affin, bins = bin_ct, range = [start, end])\n",
    "lg_hist, lg_edges = np.histogram(lg_affin, bins = bin_ct, range = [start, end])\n",
    "cl_hist, cl_edges = np.histogram(cl_affin, bins = bin_ct, range = [start, end])\n",
    "st_hist, st_edges = np.histogram(st_affin, bins = bin_ct, range = [start, end])\n",
    "nw_hist, nw_edges = np.histogram(nw_affin, bins = bin_ct, range = [start, end])\n",
    "tg_hist, tg_edges = np.histogram(tg_affin, bins = bin_ct, range = [start, end])\n",
    "cb_hist, cb_edges = np.histogram(cb_affin, bins = bin_ct, range = [start, end])\n",
    "\n",
    "hist = [ff_hist, al_hist, lg_hist, cl_hist, st_hist, nw_hist, tg_hist, cb_hist]\n",
    "hist = [[hh / np.sum(h) for hh in h] for h in hist1]\n",
    "\n",
    "edges = [ff_edges, al_edges, lg_edges, cl_edges, st_edges, nw_edges, tg_edges, cb_edges]\n",
    "colors = ['red', 'orange', 'lightgreen', 'darkgreen', 'lightblue', 'navy', 'violet', 'darkviolet']\n",
    "categories = [\"Fast Food\", \"Airlines\", \"Sports Leagues\", \"Colleges\", \"Streaming Sites\", \"News Outlets\", \"Tech Giants\", \"Celebrities\"]\n"
   ]
  },
  {
   "cell_type": "code",
   "execution_count": 107,
   "metadata": {},
   "outputs": [],
   "source": [
    "p = figure(plot_width = 700, plot_height = 700, \n",
    "                  title = 'Histogram of Sentiment Analysis by Category',\n",
    "                  x_axis_label = 'Sentiment Score', y_axis_label = 'Proportion')\n",
    "\n",
    "\n",
    "for i in range(len(hist)):\n",
    "    p.quad(bottom = 0, top = hist[i], left = edges[i][:-1], right = edges[i][1:],\n",
    "               color = colors[i], fill_alpha = 0.7, legend = categories[i],\n",
    "               line_color = 'white')\n",
    "p.legend.click_policy=\"hide\"\n",
    "\n",
    "show(p)\n"
   ]
  },
  {
   "cell_type": "code",
   "execution_count": null,
   "metadata": {},
   "outputs": [],
   "source": []
  }
 ],
 "metadata": {
  "kernelspec": {
   "display_name": "Python 3",
   "language": "python",
   "name": "python3"
  },
  "language_info": {
   "codemirror_mode": {
    "name": "ipython",
    "version": 3
   },
   "file_extension": ".py",
   "mimetype": "text/x-python",
   "name": "python",
   "nbconvert_exporter": "python",
   "pygments_lexer": "ipython3",
   "version": "3.7.3"
  },
  "nav_menu": {},
  "toc": {
   "base_numbering": 1,
   "nav_menu": {},
   "number_sections": false,
   "sideBar": true,
   "skip_h1_title": false,
   "title_cell": "Table of Contents",
   "title_sidebar": "Contents",
   "toc_cell": false,
   "toc_position": {},
   "toc_section_display": "block",
   "toc_window_display": false
  },
  "varInspector": {
   "cols": {
    "lenName": 16,
    "lenType": 16,
    "lenVar": 40
   },
   "kernels_config": {
    "python": {
     "delete_cmd_postfix": "",
     "delete_cmd_prefix": "del ",
     "library": "var_list.py",
     "varRefreshCmd": "print(var_dic_list())"
    },
    "r": {
     "delete_cmd_postfix": ") ",
     "delete_cmd_prefix": "rm(",
     "library": "var_list.r",
     "varRefreshCmd": "cat(var_dic_list()) "
    }
   },
   "position": {
    "height": "379.219px",
    "left": "745.903px",
    "right": "20px",
    "top": "120px",
    "width": "310.764px"
   },
   "types_to_exclude": [
    "module",
    "function",
    "builtin_function_or_method",
    "instance",
    "_Feature"
   ],
   "window_display": false
  }
 },
 "nbformat": 4,
 "nbformat_minor": 2
}
