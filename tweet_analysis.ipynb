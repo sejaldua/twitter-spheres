{
 "cells": [
  {
   "cell_type": "markdown",
   "metadata": {},
   "source": [
    "# Final Project"
   ]
  },
  {
   "cell_type": "code",
   "execution_count": 79,
   "metadata": {},
   "outputs": [],
   "source": [
    "# Import statements\n",
    "import os\n",
    "import re\n",
    "import nltk\n",
    "import pandas as pd\n",
    "import numpy as np\n",
    "from afinn import Afinn\n",
    "import matplotlib.pyplot as plt"
   ]
  },
  {
   "cell_type": "code",
   "execution_count": 84,
   "metadata": {},
   "outputs": [],
   "source": [
    "def create_df(c):\n",
    "    df = pd.DataFrame()\n",
    "    divider = np.zeros(10)\n",
    "    names = []\n",
    "    counter = 0\n",
    "    for f in os.listdir(\"tweets/%s\" % c):\n",
    "        dft = pd.read_csv(\"tweets/%s/%s\" % (c, f))\n",
    "        divider[counter] = len(dft) - 1\n",
    "        df = pd.concat([df, dft])\n",
    "        names.append(f[7:][:-4])\n",
    "    return df, divider, names"
   ]
  },
  {
   "cell_type": "code",
   "execution_count": 86,
   "metadata": {},
   "outputs": [],
   "source": [
    "categories = [\"fast food\", \"airlines\", \"leagues\", \"colleges\", \"streaming\", \"news\", \"tech giants\", \"celebrities\"]\n",
    "\n",
    "fast_food, ff_divider, ff_names = create_df(categories[0])\n",
    "airlines, al_divider, al_names = create_df(categories[1])\n",
    "leagues, lg_divider, lg_names = create_df(categories[2])\n",
    "colleges, cl_divider, cl_names = create_df(categories[3])\n",
    "streaming, st_divider, st_names = create_df(categories[4])\n",
    "news, nw_divider, nw_names = create_df(categories[5])\n",
    "tech, tg_divider, tg_names = create_df(categories[6])\n",
    "celebs, cb_divider, cb_names = create_df(categories[7])\n"
   ]
  },
  {
   "cell_type": "code",
   "execution_count": 64,
   "metadata": {},
   "outputs": [],
   "source": [
    "stopwords = nltk.corpus.stopwords.words(\"english\")\n",
    "\n",
    "# Clean tweets for sentiment analysis\n",
    "def get_clean_words(words):\n",
    "    def _isnum(w):\n",
    "        try:\n",
    "            int(w)\n",
    "            return True\n",
    "        except ValueError:\n",
    "            return False\n",
    "        \n",
    "    # Set words to lowercase and remove them if they are stop words\n",
    "    words = [w.lower() for w in words if w.lower() not in stopwords]\n",
    "\n",
    "    # Remove numbers\n",
    "    words = [w for w in words if not _isnum(w)]\n",
    "        \n",
    "    # Remove hashtags\n",
    "    words = [w for w in words if not w.startswith(\"#\")]\n",
    "    \n",
    "    # Remove mentions\n",
    "    words = [w for w in words if not w.startswith(\"@\")]\n",
    "\n",
    "    return words"
   ]
  },
  {
   "cell_type": "code",
   "execution_count": 67,
   "metadata": {},
   "outputs": [],
   "source": [
    "def clean_tweets(tweets):\n",
    "    t_new = []\n",
    "    count = 0\n",
    "    for t in tweets:\n",
    "        try:\n",
    "            w = t.split()\n",
    "            w = get_clean_words(w)\n",
    "            tc = \" \".join(w)\n",
    "            t_new.append(tc)\n",
    "        except:\n",
    "            count += 1\n",
    "    print(count)\n",
    "    print(len(t_new))\n",
    "    return t_new"
   ]
  },
  {
   "cell_type": "code",
   "execution_count": 87,
   "metadata": {},
   "outputs": [
    {
     "name": "stdout",
     "output_type": "stream",
     "text": [
      "3110\n",
      "88490\n"
     ]
    }
   ],
   "source": [
    "ff_tweets = list(fast_food['text'])\n",
    "al_tweets = list(airlines['text'])\n",
    "lg_tweets = list(leagues['text'])\n",
    "cl_tweets = list(colleges['text'])\n",
    "st_tweets = list(streaming['text'])\n",
    "nw_tweets = list(news['text'])\n",
    "tg_tweets = list(tech['text'])\n",
    "cb_tweets = list(celebs['text'])\n",
    "\n",
    "ff_clean = clean_tweets(ff_tweets)\n",
    "al_clean = clean_tweets(al_tweets)\n",
    "lg_clean = clean_tweets(lg_tweets)\n",
    "cl_clean = clean_tweets(cl_tweets)\n",
    "st_clean = clean_tweets(st_tweets)\n",
    "nw_clean = clean_tweets(nw_tweets)\n",
    "tg_clean = clean_tweets(tg_tweets)\n",
    "cb_clean = clean_tweets(cb_tweets)"
   ]
  },
  {
   "cell_type": "code",
   "execution_count": 75,
   "metadata": {},
   "outputs": [],
   "source": [
    "afinn = Afinn()\n",
    "\n",
    "def get_affinity_scores(tweets):\n",
    "    scores = []\n",
    "    for t in tweets:\n",
    "        if (len(t) > 0):\n",
    "            scores.append(afinn.score(t) / len(t))\n",
    "    return scores"
   ]
  },
  {
   "cell_type": "code",
   "execution_count": 76,
   "metadata": {},
   "outputs": [],
   "source": [
    "ff_affin = get_affinity_scores(ff_clean)\n",
    "al_affin = get_affinity_scores(al_clean)\n",
    "lg_affin = get_affinity_scores(lg_clean)\n",
    "cl_affin = get_affinity_scores(cl_clean)\n",
    "st_affin = get_affinity_scores(st_clean)\n",
    "nw_affin = get_affinity_scores(nw_clean)\n",
    "tg_affin = get_affinity_scores(tg_clean)\n",
    "cb_affin = get_affinity_scores(cb_clean)"
   ]
  },
  {
   "cell_type": "code",
   "execution_count": 81,
   "metadata": {
    "scrolled": true
   },
   "outputs": [
    {
     "data": {
      "image/png": "[encoded data removed]",
      "text/plain": [
       "<Figure size 432x288 with 1 Axes>"
      ]
     },
     "metadata": {
      "needs_background": "light"
     },
     "output_type": "display_data"
    }
   ],
   "source": [
    "plt.hist(ff_affin)\n",
    "plt.title(\"Fast Food Twitter Sentiment Analysis\")\n",
    "plt.show()"
   ]
  },
  {
   "cell_type": "code",
   "execution_count": null,
   "metadata": {},
   "outputs": [],
   "source": [
    "plt.hist(al_affin)\n",
    "plt.title(\"Airline Twitter Sentiment Analysis\")\n",
    "plt.show()"
   ]
  },
  {
   "cell_type": "code",
   "execution_count": null,
   "metadata": {},
   "outputs": [],
   "source": [
    "plt.hist(lg_affin)\n",
    "plt.title(\"Sports League Twitter Sentiment Analysis\")\n",
    "plt.show()"
   ]
  },
  {
   "cell_type": "code",
   "execution_count": null,
   "metadata": {},
   "outputs": [],
   "source": [
    "plt.hist(cl_affin)\n",
    "plt.title(\"College Twitter Sentiment Analysis\")\n",
    "plt.show()"
   ]
  },
  {
   "cell_type": "code",
   "execution_count": null,
   "metadata": {},
   "outputs": [],
   "source": [
    "plt.hist(st_affin)\n",
    "plt.title(\"Streaming Site Twitter Sentiment Analysis\")\n",
    "plt.show()"
   ]
  },
  {
   "cell_type": "code",
   "execution_count": null,
   "metadata": {},
   "outputs": [],
   "source": [
    "plt.hist(nw_affin)\n",
    "plt.title(\"News Outlet Twitter Sentiment Analysis\")\n",
    "plt.show()"
   ]
  },
  {
   "cell_type": "code",
   "execution_count": null,
   "metadata": {},
   "outputs": [],
   "source": [
    "plt.hist(tg_affin)\n",
    "plt.title(\"Tech Giant Twitter Sentiment Analysis\")\n",
    "plt.show()"
   ]
  },
  {
   "cell_type": "code",
   "execution_count": null,
   "metadata": {},
   "outputs": [],
   "source": [
    "plt.hist(cb_affin)\n",
    "plt.title(\"Celebrity Twitter Sentiment Analysis\")\n",
    "plt.show()"
   ]
  },
  {
   "cell_type": "code",
   "execution_count": null,
   "metadata": {},
   "outputs": [],
   "source": [
    "def affin_by_acct(tweets, divider):\n",
    "    acct = []\n",
    "    start = 0\n",
    "    for x in range(10):\n",
    "        acct.append(np.mean(get_affinity_scores(tweets[start:divider[x]])))\n",
    "        start = divider[x] + 1\n",
    "    return acct"
   ]
  },
  {
   "cell_type": "code",
   "execution_count": null,
   "metadata": {},
   "outputs": [],
   "source": [
    "ff_acct = affin_by_acct(ff_clean, ff_divider)\n",
    "al_acct = affin_by_acct(al_clean, al_divider)\n",
    "lg_acct = affin_by_acct(lg_clean, lg_divider)\n",
    "cl_acct = affin_by_acct(cl_clean, cl_divider)\n",
    "st_acct = affin_by_acct(st_clean, st_divider)\n",
    "nw_acct = affin_by_acct(nw_clean, nw_divider)\n",
    "tg_acct = affin_by_acct(tg_clean, tg_divider)\n",
    "si_acct = affin_by_acct(si_clean, si_divider)\n",
    "ac_acct = affin_by_acct(ac_clean, ac_divider)"
   ]
  },
  {
   "cell_type": "code",
   "execution_count": 81,
   "metadata": {
    "scrolled": false
   },
   "outputs": [
    {
     "data": {
      "image/png": "[encoded data removed]",
      "text/plain": [
       "<Figure size 432x288 with 1 Axes>"
      ]
     },
     "metadata": {
      "needs_background": "light"
     },
     "output_type": "display_data"
    }
   ],
   "source": [
    "plt.bar(ff_names, ff_affin)\n",
    "plt.title(\"Fast Food Twitter Sentiment Analysis\")\n",
    "plt.show()"
   ]
  },
  {
   "cell_type": "code",
   "execution_count": null,
   "metadata": {},
   "outputs": [],
   "source": [
    "plt.bar(al_names, al_acct)\n",
    "plt.title(\"Airline Twitter Sentiment Analysis by Account\")\n",
    "plt.show()"
   ]
  },
  {
   "cell_type": "code",
   "execution_count": null,
   "metadata": {},
   "outputs": [],
   "source": [
    "plt.bar(lg_names, lg_acct)\n",
    "plt.title(\"Sports League Twitter Sentiment Analysis by Account\")\n",
    "plt.show()"
   ]
  },
  {
   "cell_type": "code",
   "execution_count": null,
   "metadata": {},
   "outputs": [],
   "source": [
    "plt.bar(cl_names, cl_acct)\n",
    "plt.title(\"College Twitter Sentiment Analysis by Account\")\n",
    "plt.show()"
   ]
  },
  {
   "cell_type": "code",
   "execution_count": null,
   "metadata": {},
   "outputs": [],
   "source": [
    "plt.bar(st_names, st_acct)\n",
    "plt.title(\"Streaming Site Twitter Sentiment Analysis by Account\")\n",
    "plt.show()"
   ]
  },
  {
   "cell_type": "code",
   "execution_count": null,
   "metadata": {},
   "outputs": [],
   "source": [
    "plt.bar(nw_names, nw_acct)\n",
    "plt.title(\"News Outlet Twitter Sentiment Analysis by Account\")\n",
    "plt.show()"
   ]
  },
  {
   "cell_type": "code",
   "execution_count": null,
   "metadata": {},
   "outputs": [],
   "source": [
    "plt.bar(tg_names, tg_acct)\n",
    "plt.title(\"Tech Giant Twitter Sentiment Analysis by Account\")\n",
    "plt.show()"
   ]
  },
  {
   "cell_type": "code",
   "execution_count": null,
   "metadata": {},
   "outputs": [],
   "source": [
    "plt.bar(cb_names, cb_acct)\n",
    "plt.title(\"Celebrity Twitter Sentiment Analysis by Account\")\n",
    "plt.show()"
   ]
  }
 ],
 "metadata": {
  "kernelspec": {
   "display_name": "Python 3",
   "language": "python",
   "name": "python3"
  },
  "language_info": {
   "codemirror_mode": {
    "name": "ipython",
    "version": 3
   },
   "file_extension": ".py",
   "mimetype": "text/x-python",
   "name": "python",
   "nbconvert_exporter": "python",
   "pygments_lexer": "ipython3",
   "version": "3.7.3"
  },
  "nav_menu": {},
  "toc": {
   "base_numbering": 1,
   "nav_menu": {},
   "number_sections": false,
   "sideBar": true,
   "skip_h1_title": false,
   "title_cell": "Table of Contents",
   "title_sidebar": "Contents",
   "toc_cell": false,
   "toc_position": {},
   "toc_section_display": "block",
   "toc_window_display": true
  },
  "varInspector": {
   "cols": {
    "lenName": 16,
    "lenType": 16,
    "lenVar": 40
   },
   "kernels_config": {
    "python": {
     "delete_cmd_postfix": "",
     "delete_cmd_prefix": "del ",
     "library": "var_list.py",
     "varRefreshCmd": "print(var_dic_list())"
    },
    "r": {
     "delete_cmd_postfix": ") ",
     "delete_cmd_prefix": "rm(",
     "library": "var_list.r",
     "varRefreshCmd": "cat(var_dic_list()) "
    }
   },
   "types_to_exclude": [
    "module",
    "function",
    "builtin_function_or_method",
    "instance",
    "_Feature"
   ],
   "window_display": false
  }
 },
 "nbformat": 4,
 "nbformat_minor": 2
}
